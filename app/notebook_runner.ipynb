{
 "cells": [
  {
   "metadata": {
    "ExecuteTime": {
     "end_time": "2025-05-22T07:05:23.656443Z",
     "start_time": "2025-05-22T07:05:23.551499Z"
    }
   },
   "cell_type": "code",
   "source": [
    "%load_ext autoreload\n",
    "%autoreload 2"
   ],
   "id": "fa55abc5d6fb066b",
   "outputs": [],
   "execution_count": 1
  },
  {
   "metadata": {
    "ExecuteTime": {
     "end_time": "2025-05-22T07:05:38.024121Z",
     "start_time": "2025-05-22T07:05:37.096261Z"
    }
   },
   "cell_type": "code",
   "source": [
    "from core.providers.model_provider import ModelProvider\n",
    "from core.providers.mongo_provider import MongoProvider\n",
    "from core.providers.records_db_provider import RecordsDBProvider\n",
    "from core.app_config import CONFIGURATION\n",
    "from inference_graph import InferenceGraph"
   ],
   "id": "a637269ee4570b80",
   "outputs": [],
   "execution_count": 4
  },
  {
   "metadata": {
    "ExecuteTime": {
     "end_time": "2025-05-22T07:05:39.148967Z",
     "start_time": "2025-05-22T07:05:38.959166Z"
    }
   },
   "cell_type": "code",
   "source": [
    "from core.providers.memory_provider import LocalMemoryProvider\n",
    "from langgraph.types import Command\n",
    "from langchain_core.messages import HumanMessage"
   ],
   "id": "a4b265dbe47b719b",
   "outputs": [],
   "execution_count": 5
  },
  {
   "metadata": {
    "ExecuteTime": {
     "end_time": "2025-05-22T07:05:40.057426Z",
     "start_time": "2025-05-22T07:05:39.933028Z"
    }
   },
   "cell_type": "code",
   "source": "config = {\"configurable\": {\"thread_id\": \"0\"}}",
   "id": "4a8b8f5dcef7b7a",
   "outputs": [],
   "execution_count": 6
  },
  {
   "metadata": {
    "ExecuteTime": {
     "end_time": "2025-05-22T07:05:41.186518Z",
     "start_time": "2025-05-22T07:05:41.036755Z"
    }
   },
   "cell_type": "code",
   "source": [
    "model_provider = ModelProvider()\n",
    "mongo_client = MongoProvider(CONFIGURATION).get_client()\n",
    "records_db = RecordsDBProvider(mongo_client).get_db()\n",
    "memory = LocalMemoryProvider().get_memory()\n",
    "graph = InferenceGraph(memory, records_db, model_provider).graph"
   ],
   "id": "ce21a55de10b6449",
   "outputs": [],
   "execution_count": 7
  },
  {
   "metadata": {
    "ExecuteTime": {
     "end_time": "2025-05-22T07:05:44.266440Z",
     "start_time": "2025-05-22T07:05:42.454454Z"
    }
   },
   "cell_type": "code",
   "source": [
    "message = \"Hello!\"\n",
    "input_messages = [HumanMessage(message)]\n",
    "output = graph.invoke({\"input\": message, \"messages\": input_messages}, config)\n",
    "output"
   ],
   "id": "8fcf8c41cdb3be19",
   "outputs": [
    {
     "data": {
      "text/plain": [
       "{'messages': [HumanMessage(content='Hello!', additional_kwargs={}, response_metadata={}, id='9443cf39-215a-4302-93a0-c24c4b541059'),\n",
       "  AIMessage(content='Hello! How can I assist you today?', additional_kwargs={'refusal': None}, response_metadata={'token_usage': {'completion_tokens': 9, 'prompt_tokens': 9, 'total_tokens': 18, 'completion_tokens_details': {'accepted_prediction_tokens': 0, 'audio_tokens': 0, 'reasoning_tokens': 0, 'rejected_prediction_tokens': 0}, 'prompt_tokens_details': {'audio_tokens': 0, 'cached_tokens': 0}}, 'model_name': 'gpt-4o-mini-2024-07-18', 'system_fingerprint': 'fp_54eb4bd693', 'id': 'chatcmpl-BZuHoHYWttH3qHpLhTZThcV9ibtdq', 'service_tier': 'default', 'finish_reason': 'stop', 'logprobs': None}, id='run--46100925-ec31-4906-ad43-3dd5dcb51892-0', usage_metadata={'input_tokens': 9, 'output_tokens': 9, 'total_tokens': 18, 'input_token_details': {'audio': 0, 'cache_read': 0}, 'output_token_details': {'audio': 0, 'reasoning': 0}})],\n",
       " 'input': 'Hello!',\n",
       " 'chat_decision': 'CHATBOT'}"
      ]
     },
     "execution_count": 8,
     "metadata": {},
     "output_type": "execute_result"
    }
   ],
   "execution_count": 8
  },
  {
   "metadata": {
    "ExecuteTime": {
     "end_time": "2025-05-22T07:05:51.654415Z",
     "start_time": "2025-05-22T07:05:45.992551Z"
    }
   },
   "cell_type": "code",
   "source": [
    "message = \"I am feeling bad, i have 38 degrees body temperature, fever and throat pain\"\n",
    "input_messages = [HumanMessage(message)]\n",
    "output = graph.invoke({\"input\": message, \"messages\": input_messages}, config)\n",
    "output"
   ],
   "id": "f74686fed8f9e7",
   "outputs": [
    {
     "data": {
      "text/plain": [
       "{'messages': [HumanMessage(content='Hello!', additional_kwargs={}, response_metadata={}, id='9443cf39-215a-4302-93a0-c24c4b541059'),\n",
       "  AIMessage(content='Hello! How can I assist you today?', additional_kwargs={'refusal': None}, response_metadata={'token_usage': {'completion_tokens': 9, 'prompt_tokens': 9, 'total_tokens': 18, 'completion_tokens_details': {'accepted_prediction_tokens': 0, 'audio_tokens': 0, 'reasoning_tokens': 0, 'rejected_prediction_tokens': 0}, 'prompt_tokens_details': {'audio_tokens': 0, 'cached_tokens': 0}}, 'model_name': 'gpt-4o-mini-2024-07-18', 'system_fingerprint': 'fp_54eb4bd693', 'id': 'chatcmpl-BZuHoHYWttH3qHpLhTZThcV9ibtdq', 'service_tier': 'default', 'finish_reason': 'stop', 'logprobs': None}, id='run--46100925-ec31-4906-ad43-3dd5dcb51892-0', usage_metadata={'input_tokens': 9, 'output_tokens': 9, 'total_tokens': 18, 'input_token_details': {'audio': 0, 'cache_read': 0}, 'output_token_details': {'audio': 0, 'reasoning': 0}}),\n",
       "  HumanMessage(content='I am feeling bad, i have 38 degrees body temperature, fever and throat pain', additional_kwargs={}, response_metadata={}, id='adb96fa4-7c9b-478e-8e9a-9aef0230a7d6')],\n",
       " 'input': 'I am feeling bad, i have 38 degrees body temperature, fever and throat pain',\n",
       " 'chat_decision': 'MEDICAL',\n",
       " '__interrupt__': [Interrupt(value='How long have you been experiencing these symptoms?', resumable=True, ns=['medial_graph:ff71e0a8-5daf-11b7-1934-5564ff97647d', 'questions_graph:3e6e2a4b-1829-cc66-0c66-d508aef4e898', 'human_node:9b5fed01-8337-c74d-a5a7-6916b28b412c'])]}"
      ]
     },
     "execution_count": 9,
     "metadata": {},
     "output_type": "execute_result"
    }
   ],
   "execution_count": 9
  },
  {
   "metadata": {
    "ExecuteTime": {
     "end_time": "2025-05-22T07:05:54.742581Z",
     "start_time": "2025-05-22T07:05:53.687613Z"
    }
   },
   "cell_type": "code",
   "source": "graph.invoke(Command(resume=\"nearly 3 days\"), config=config)",
   "id": "e12577794f51eb80",
   "outputs": [
    {
     "data": {
      "text/plain": [
       "{'messages': [HumanMessage(content='Hello!', additional_kwargs={}, response_metadata={}, id='9443cf39-215a-4302-93a0-c24c4b541059'),\n",
       "  AIMessage(content='Hello! How can I assist you today?', additional_kwargs={'refusal': None}, response_metadata={'token_usage': {'completion_tokens': 9, 'prompt_tokens': 9, 'total_tokens': 18, 'completion_tokens_details': {'accepted_prediction_tokens': 0, 'audio_tokens': 0, 'reasoning_tokens': 0, 'rejected_prediction_tokens': 0}, 'prompt_tokens_details': {'audio_tokens': 0, 'cached_tokens': 0}}, 'model_name': 'gpt-4o-mini-2024-07-18', 'system_fingerprint': 'fp_54eb4bd693', 'id': 'chatcmpl-BZuHoHYWttH3qHpLhTZThcV9ibtdq', 'service_tier': 'default', 'finish_reason': 'stop', 'logprobs': None}, id='run--46100925-ec31-4906-ad43-3dd5dcb51892-0', usage_metadata={'input_tokens': 9, 'output_tokens': 9, 'total_tokens': 18, 'input_token_details': {'audio': 0, 'cache_read': 0}, 'output_token_details': {'audio': 0, 'reasoning': 0}}),\n",
       "  HumanMessage(content='I am feeling bad, i have 38 degrees body temperature, fever and throat pain', additional_kwargs={}, response_metadata={}, id='adb96fa4-7c9b-478e-8e9a-9aef0230a7d6')],\n",
       " 'input': 'I am feeling bad, i have 38 degrees body temperature, fever and throat pain',\n",
       " 'chat_decision': 'MEDICAL',\n",
       " '__interrupt__': [Interrupt(value='Do you have any difficulty swallowing or breathing?', resumable=True, ns=['medial_graph:ff71e0a8-5daf-11b7-1934-5564ff97647d', 'questions_graph:3e6e2a4b-1829-cc66-0c66-d508aef4e898', 'human_node:71e2e3c9-e587-fc7d-13bf-a34f1903e78f'])]}"
      ]
     },
     "execution_count": 10,
     "metadata": {},
     "output_type": "execute_result"
    }
   ],
   "execution_count": 10
  },
  {
   "metadata": {
    "ExecuteTime": {
     "end_time": "2025-05-22T07:06:08.750759Z",
     "start_time": "2025-05-22T07:06:04.615734Z"
    }
   },
   "cell_type": "code",
   "source": "graph.invoke(Command(resume=\"only with swallowing\"), config=config)",
   "id": "11cf296a47c4215d",
   "outputs": [
    {
     "data": {
      "text/plain": [
       "{'messages': [HumanMessage(content='Hello!', additional_kwargs={}, response_metadata={}, id='9443cf39-215a-4302-93a0-c24c4b541059'),\n",
       "  AIMessage(content='Hello! How can I assist you today?', additional_kwargs={'refusal': None}, response_metadata={'token_usage': {'completion_tokens': 9, 'prompt_tokens': 9, 'total_tokens': 18, 'completion_tokens_details': {'accepted_prediction_tokens': 0, 'audio_tokens': 0, 'reasoning_tokens': 0, 'rejected_prediction_tokens': 0}, 'prompt_tokens_details': {'audio_tokens': 0, 'cached_tokens': 0}}, 'model_name': 'gpt-4o-mini-2024-07-18', 'system_fingerprint': 'fp_54eb4bd693', 'id': 'chatcmpl-BZuHoHYWttH3qHpLhTZThcV9ibtdq', 'service_tier': 'default', 'finish_reason': 'stop', 'logprobs': None}, id='run--46100925-ec31-4906-ad43-3dd5dcb51892-0', usage_metadata={'input_tokens': 9, 'output_tokens': 9, 'total_tokens': 18, 'input_token_details': {'audio': 0, 'cache_read': 0}, 'output_token_details': {'audio': 0, 'reasoning': 0}}),\n",
       "  HumanMessage(content='I am feeling bad, i have 38 degrees body temperature, fever and throat pain', additional_kwargs={}, response_metadata={}, id='adb96fa4-7c9b-478e-8e9a-9aef0230a7d6')],\n",
       " 'input': 'I am feeling bad, i have 38 degrees body temperature, fever and throat pain',\n",
       " 'chat_decision': 'MEDICAL',\n",
       " '__interrupt__': [Interrupt(value='Have you noticed any other symptoms such as cough, fatigue, or loss of taste/smell?', resumable=True, ns=['medial_graph:ff71e0a8-5daf-11b7-1934-5564ff97647d', 'questions_graph:3e6e2a4b-1829-cc66-0c66-d508aef4e898', 'human_node:349f8f89-aa06-52ed-180f-9e09a45a4362'])]}"
      ]
     },
     "execution_count": 11,
     "metadata": {},
     "output_type": "execute_result"
    }
   ],
   "execution_count": 11
  },
  {
   "metadata": {
    "ExecuteTime": {
     "end_time": "2025-05-22T07:06:17.476063Z",
     "start_time": "2025-05-22T07:06:14.113239Z"
    }
   },
   "cell_type": "code",
   "source": "graph.invoke(Command(resume=\"no\"), config=config)",
   "id": "2778f615d2e01415",
   "outputs": [
    {
     "data": {
      "text/plain": [
       "{'messages': [HumanMessage(content='Hello!', additional_kwargs={}, response_metadata={}, id='9443cf39-215a-4302-93a0-c24c4b541059'),\n",
       "  AIMessage(content='Hello! How can I assist you today?', additional_kwargs={'refusal': None}, response_metadata={'token_usage': {'completion_tokens': 9, 'prompt_tokens': 9, 'total_tokens': 18, 'completion_tokens_details': {'accepted_prediction_tokens': 0, 'audio_tokens': 0, 'reasoning_tokens': 0, 'rejected_prediction_tokens': 0}, 'prompt_tokens_details': {'audio_tokens': 0, 'cached_tokens': 0}}, 'model_name': 'gpt-4o-mini-2024-07-18', 'system_fingerprint': 'fp_54eb4bd693', 'id': 'chatcmpl-BZuHoHYWttH3qHpLhTZThcV9ibtdq', 'service_tier': 'default', 'finish_reason': 'stop', 'logprobs': None}, id='run--46100925-ec31-4906-ad43-3dd5dcb51892-0', usage_metadata={'input_tokens': 9, 'output_tokens': 9, 'total_tokens': 18, 'input_token_details': {'audio': 0, 'cache_read': 0}, 'output_token_details': {'audio': 0, 'reasoning': 0}}),\n",
       "  HumanMessage(content='I am feeling bad, i have 38 degrees body temperature, fever and throat pain', additional_kwargs={}, response_metadata={}, id='adb96fa4-7c9b-478e-8e9a-9aef0230a7d6')],\n",
       " 'input': 'I am feeling bad, i have 38 degrees body temperature, fever and throat pain',\n",
       " 'chat_decision': 'MEDICAL',\n",
       " '__interrupt__': [Interrupt(value='Have you been in contact with anyone who has tested positive for COVID-19 or has had flu-like symptoms recently?', resumable=True, ns=['medial_graph:ff71e0a8-5daf-11b7-1934-5564ff97647d', 'questions_graph:3e6e2a4b-1829-cc66-0c66-d508aef4e898', 'human_node:2603b165-661c-1025-3820-62fe57d15541'])]}"
      ]
     },
     "execution_count": 12,
     "metadata": {},
     "output_type": "execute_result"
    }
   ],
   "execution_count": 12
  },
  {
   "metadata": {
    "ExecuteTime": {
     "end_time": "2025-05-22T07:06:21.041540Z",
     "start_time": "2025-05-22T07:06:19.911086Z"
    }
   },
   "cell_type": "code",
   "source": "graph.invoke(Command(resume=\"no\"), config=config)",
   "id": "fa2178e868400237",
   "outputs": [
    {
     "data": {
      "text/plain": [
       "{'messages': [HumanMessage(content='Hello!', additional_kwargs={}, response_metadata={}, id='9443cf39-215a-4302-93a0-c24c4b541059'),\n",
       "  AIMessage(content='Hello! How can I assist you today?', additional_kwargs={'refusal': None}, response_metadata={'token_usage': {'completion_tokens': 9, 'prompt_tokens': 9, 'total_tokens': 18, 'completion_tokens_details': {'accepted_prediction_tokens': 0, 'audio_tokens': 0, 'reasoning_tokens': 0, 'rejected_prediction_tokens': 0}, 'prompt_tokens_details': {'audio_tokens': 0, 'cached_tokens': 0}}, 'model_name': 'gpt-4o-mini-2024-07-18', 'system_fingerprint': 'fp_54eb4bd693', 'id': 'chatcmpl-BZuHoHYWttH3qHpLhTZThcV9ibtdq', 'service_tier': 'default', 'finish_reason': 'stop', 'logprobs': None}, id='run--46100925-ec31-4906-ad43-3dd5dcb51892-0', usage_metadata={'input_tokens': 9, 'output_tokens': 9, 'total_tokens': 18, 'input_token_details': {'audio': 0, 'cache_read': 0}, 'output_token_details': {'audio': 0, 'reasoning': 0}}),\n",
       "  HumanMessage(content='I am feeling bad, i have 38 degrees body temperature, fever and throat pain', additional_kwargs={}, response_metadata={}, id='adb96fa4-7c9b-478e-8e9a-9aef0230a7d6')],\n",
       " 'input': 'I am feeling bad, i have 38 degrees body temperature, fever and throat pain',\n",
       " 'chat_decision': 'MEDICAL',\n",
       " '__interrupt__': [Interrupt(value='What is your current body temperature, and have you taken any medications for your symptoms?', resumable=True, ns=['medial_graph:ff71e0a8-5daf-11b7-1934-5564ff97647d', 'questions_graph:3e6e2a4b-1829-cc66-0c66-d508aef4e898', 'human_node:2161ebee-a94f-cf46-0bac-a2d070504fe3'])]}"
      ]
     },
     "execution_count": 13,
     "metadata": {},
     "output_type": "execute_result"
    }
   ],
   "execution_count": 13
  },
  {
   "metadata": {
    "ExecuteTime": {
     "end_time": "2025-05-22T07:06:29.346547Z",
     "start_time": "2025-05-22T07:06:26.992247Z"
    }
   },
   "cell_type": "code",
   "source": "graph.invoke(Command(resume=\"38\"), config=config)",
   "id": "bd5a8d8530c9cc05",
   "outputs": [
    {
     "data": {
      "text/plain": [
       "{'messages': [HumanMessage(content='Hello!', additional_kwargs={}, response_metadata={}, id='9443cf39-215a-4302-93a0-c24c4b541059'),\n",
       "  AIMessage(content='Hello! How can I assist you today?', additional_kwargs={'refusal': None}, response_metadata={'token_usage': {'completion_tokens': 9, 'prompt_tokens': 9, 'total_tokens': 18, 'completion_tokens_details': {'accepted_prediction_tokens': 0, 'audio_tokens': 0, 'reasoning_tokens': 0, 'rejected_prediction_tokens': 0}, 'prompt_tokens_details': {'audio_tokens': 0, 'cached_tokens': 0}}, 'model_name': 'gpt-4o-mini-2024-07-18', 'system_fingerprint': 'fp_54eb4bd693', 'id': 'chatcmpl-BZuHoHYWttH3qHpLhTZThcV9ibtdq', 'service_tier': 'default', 'finish_reason': 'stop', 'logprobs': None}, id='run--46100925-ec31-4906-ad43-3dd5dcb51892-0', usage_metadata={'input_tokens': 9, 'output_tokens': 9, 'total_tokens': 18, 'input_token_details': {'audio': 0, 'cache_read': 0}, 'output_token_details': {'audio': 0, 'reasoning': 0}}),\n",
       "  HumanMessage(content='I am feeling bad, i have 38 degrees body temperature, fever and throat pain', additional_kwargs={}, response_metadata={}, id='adb96fa4-7c9b-478e-8e9a-9aef0230a7d6')],\n",
       " 'input': 'I am feeling bad, i have 38 degrees body temperature, fever and throat pain',\n",
       " 'chat_decision': 'MEDICAL',\n",
       " 'symptoms': ['fever', 'throat pain', 'elevated body temperature'],\n",
       " 'diagnoses': ['Viral pharyngitis',\n",
       "  'Streptococcal throat infection (strep throat)',\n",
       "  'Tonsillitis',\n",
       "  'Influenza (flu)',\n",
       "  'COVID-19'],\n",
       " 'question_decision': 'TRUE',\n",
       " 'questions': [],\n",
       " 'current_question': '',\n",
       " 'answered_question': 'What is your current body temperature, and have you taken any medications for your symptoms?',\n",
       " 'answers': [{'question': 'How long have you been experiencing these symptoms?',\n",
       "   'answer': 'nearly 3 days'},\n",
       "  {'question': 'Do you have any difficulty swallowing or breathing?',\n",
       "   'answer': 'only with swallowing'},\n",
       "  {'question': 'Have you noticed any other symptoms such as cough, fatigue, or loss of taste/smell?',\n",
       "   'answer': 'no'},\n",
       "  {'question': 'Have you been in contact with anyone who has tested positive for COVID-19 or has had flu-like symptoms recently?',\n",
       "   'answer': 'no'},\n",
       "  {'question': 'What is your current body temperature, and have you taken any medications for your symptoms?',\n",
       "   'answer': '38'}],\n",
       " 'answer': '38',\n",
       " 'clue': '',\n",
       " 'final_symptoms': ['fever',\n",
       "  'throat pain',\n",
       "  'elevated body temperature',\n",
       "  'difficulty swallowing'],\n",
       " 'final_diagnoses': ['Streptococcal throat infection (strep throat)',\n",
       "  'Tonsillitis'],\n",
       " 'delay': 2,\n",
       " 'doctor': 'ENT specialist'}"
      ]
     },
     "execution_count": 14,
     "metadata": {},
     "output_type": "execute_result"
    }
   ],
   "execution_count": 14
  },
  {
   "metadata": {
    "ExecuteTime": {
     "end_time": "2025-05-22T07:03:23.557617Z",
     "start_time": "2025-05-22T07:03:17.629704Z"
    }
   },
   "cell_type": "code",
   "source": [
    "message = \"thanks\"\n",
    "input_messages = [HumanMessage(message)]\n",
    "graph.invoke({\"input\": message, \"messages\": input_messages}, config)"
   ],
   "id": "31d9399c2623760f",
   "outputs": [
    {
     "data": {
      "text/plain": [
       "{'messages': [HumanMessage(content='Hello!', additional_kwargs={}, response_metadata={}, id='1c80dc7e-8376-442c-97e0-f257e9b5aa31'),\n",
       "  AIMessage(content='Hello! How can I assist you today?', additional_kwargs={'refusal': None}, response_metadata={'token_usage': {'completion_tokens': 9, 'prompt_tokens': 9, 'total_tokens': 18, 'completion_tokens_details': {'accepted_prediction_tokens': 0, 'audio_tokens': 0, 'reasoning_tokens': 0, 'rejected_prediction_tokens': 0}, 'prompt_tokens_details': {'audio_tokens': 0, 'cached_tokens': 0}}, 'model_name': 'gpt-4o-mini-2024-07-18', 'system_fingerprint': 'fp_92e0377081', 'id': 'chatcmpl-BZuAUmJX96hyr8MQePEAeDjWmcHne', 'service_tier': 'default', 'finish_reason': 'stop', 'logprobs': None}, id='run--799add4d-69dd-4862-8b83-3db6ce67cef3-0', usage_metadata={'input_tokens': 9, 'output_tokens': 9, 'total_tokens': 18, 'input_token_details': {'audio': 0, 'cache_read': 0}, 'output_token_details': {'audio': 0, 'reasoning': 0}}),\n",
       "  HumanMessage(content='I am feeling bad, i have 38 degrees body temperature, fever and throat pain', additional_kwargs={}, response_metadata={}, id='2af5111f-5b4c-4d8a-b62c-351ecda3d2a1'),\n",
       "  AIMessage(content=\"I'm sorry to hear that you're feeling unwell. A fever, throat pain, and elevated body temperature can be symptoms of various illnesses. It's important to take care of yourself. Here are some steps you can take:\\n\\n1. **Stay Hydrated:** Drink plenty of fluids like water, herbal teas, or broth.\\n2. **Rest:** Make sure to get enough rest to help your body recover.\\n3. **Over-the-Counter Medications:** You might consider taking over-the-counter medications like acetaminophen or ibuprofen to reduce fever and relieve throat pain, but make sure you follow the dosage instructions and check for any allergies.\\n4. **Gargle Salt Water:** Gargling with warm salt water can help soothe a sore throat.\\n5. **Consult a Healthcare Professional:** If your symptoms persist, worsen, or if you have any other concerning symptoms, please contact a healthcare professional for advice.\\n\\nTake care, and I hope you feel better soon!\", additional_kwargs={'refusal': None}, response_metadata={'token_usage': {'completion_tokens': 192, 'prompt_tokens': 43, 'total_tokens': 235, 'completion_tokens_details': {'accepted_prediction_tokens': 0, 'audio_tokens': 0, 'reasoning_tokens': 0, 'rejected_prediction_tokens': 0}, 'prompt_tokens_details': {'audio_tokens': 0, 'cached_tokens': 0}}, 'model_name': 'gpt-4o-mini-2024-07-18', 'system_fingerprint': 'fp_54eb4bd693', 'id': 'chatcmpl-BZuEgnDCq7I4rrpADBNNG6GPEZfi9', 'service_tier': 'default', 'finish_reason': 'stop', 'logprobs': None}, id='run--c0d242ab-6d84-4b94-891d-bb48740b8de5-0', usage_metadata={'input_tokens': 43, 'output_tokens': 192, 'total_tokens': 235, 'input_token_details': {'audio': 0, 'cache_read': 0}, 'output_token_details': {'audio': 0, 'reasoning': 0}}),\n",
       "  HumanMessage(content='thanks', additional_kwargs={}, response_metadata={}, id='5ec973dc-be8c-4c15-9b7f-c80e7e511fa5'),\n",
       "  AIMessage(content=\"You're welcome! If you have any more questions or if there's anything else I can help you with, feel free to ask. Take care and rest well!\", additional_kwargs={'refusal': None}, response_metadata={'token_usage': {'completion_tokens': 31, 'prompt_tokens': 244, 'total_tokens': 275, 'completion_tokens_details': {'accepted_prediction_tokens': 0, 'audio_tokens': 0, 'reasoning_tokens': 0, 'rejected_prediction_tokens': 0}, 'prompt_tokens_details': {'audio_tokens': 0, 'cached_tokens': 0}}, 'model_name': 'gpt-4o-mini-2024-07-18', 'system_fingerprint': 'fp_54eb4bd693', 'id': 'chatcmpl-BZuFWr4DyNZzcF5dZfDmDCnmGVtcr', 'service_tier': 'default', 'finish_reason': 'stop', 'logprobs': None}, id='run--7119ca58-0acf-46a8-b7cc-55be98c97d93-0', usage_metadata={'input_tokens': 244, 'output_tokens': 31, 'total_tokens': 275, 'input_token_details': {'audio': 0, 'cache_read': 0}, 'output_token_details': {'audio': 0, 'reasoning': 0}})],\n",
       " 'input': 'thanks',\n",
       " 'chat_decision': 'CHATBOT',\n",
       " 'symptoms': ['fever', 'throat pain', 'high body temperature'],\n",
       " 'diagnoses': ['Strep Throat',\n",
       "  'Viral Pharyngitis',\n",
       "  'Tonsillitis',\n",
       "  'Influenza',\n",
       "  'COVID-19'],\n",
       " 'question_decision': 'TRUE',\n",
       " 'questions': [],\n",
       " 'current_question': '',\n",
       " 'answered_question': 'Are you experiencing any body aches or chills?',\n",
       " 'answers': [{'question': 'How high is your body temperature?',\n",
       "   'answer': '38.6'},\n",
       "  {'question': 'Have you experienced any cough or nasal congestion?',\n",
       "   'answer': 'no'},\n",
       "  {'question': 'Are you having trouble swallowing or breathing?',\n",
       "   'answer': 'with swallowing'},\n",
       "  {'question': 'Have you had any exposure to someone with COVID-19 or respiratory illness recently?',\n",
       "   'answer': 'no'},\n",
       "  {'question': 'Are you experiencing any body aches or chills?',\n",
       "   'answer': 'no'}],\n",
       " 'answer': 'no',\n",
       " 'clue': '',\n",
       " 'final_symptoms': ['fever',\n",
       "  'throat pain',\n",
       "  'high body temperature',\n",
       "  'trouble swallowing'],\n",
       " 'final_diagnoses': ['Strep Throat', 'Tonsillitis'],\n",
       " 'delay': 3,\n",
       " 'doctor': 'ENT (Ear, Nose, and Throat)'}"
      ]
     },
     "execution_count": 25,
     "metadata": {},
     "output_type": "execute_result"
    }
   ],
   "execution_count": 25
  },
  {
   "metadata": {
    "ExecuteTime": {
     "end_time": "2025-05-22T07:04:09.666494Z",
     "start_time": "2025-05-22T07:04:09.532389Z"
    }
   },
   "cell_type": "code",
   "source": "graph.update_state(config, {\"delay\": -1})",
   "id": "cf30dca87a41ada2",
   "outputs": [
    {
     "data": {
      "text/plain": [
       "{'configurable': {'thread_id': '0',\n",
       "  'checkpoint_ns': '',\n",
       "  'checkpoint_id': '1f036daf-56a3-601d-8010-4249d78a420d'}}"
      ]
     },
     "execution_count": 27,
     "metadata": {},
     "output_type": "execute_result"
    }
   ],
   "execution_count": 27
  },
  {
   "metadata": {
    "ExecuteTime": {
     "end_time": "2025-05-21T13:00:54.792280800Z",
     "start_time": "2025-05-21T12:53:46.046728Z"
    }
   },
   "cell_type": "code",
   "source": [
    "from IPython.display import Image, display\n",
    "\n",
    "try:\n",
    "    display(Image(graph.get_graph().draw_mermaid_png()))\n",
    "except Exception:\n",
    "    pass"
   ],
   "id": "74f30002752506b",
   "outputs": [
    {
     "data": {
      "image/png": "[encoded data removed]",
      "text/plain": [
       "<IPython.core.display.Image object>"
      ]
     },
     "metadata": {},
     "output_type": "display_data"
    }
   ],
   "execution_count": 187
  }
 ],
 "metadata": {
  "kernelspec": {
   "display_name": "Python 3",
   "language": "python",
   "name": "python3"
  },
  "language_info": {
   "codemirror_mode": {
    "name": "ipython",
    "version": 2
   },
   "file_extension": ".py",
   "mimetype": "text/x-python",
   "name": "python",
   "nbconvert_exporter": "python",
   "pygments_lexer": "ipython2",
   "version": "2.7.6"
  }
 },
 "nbformat": 4,
 "nbformat_minor": 5
}
