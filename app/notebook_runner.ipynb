{
 "cells": [
  {
   "metadata": {
    "ExecuteTime": {
     "end_time": "2025-05-21T16:38:18.174497Z",
     "start_time": "2025-05-21T16:38:18.063712Z"
    }
   },
   "cell_type": "code",
   "source": [
    "%load_ext autoreload\n",
    "%autoreload 2"
   ],
   "id": "fa55abc5d6fb066b",
   "outputs": [],
   "execution_count": 1
  },
  {
   "metadata": {
    "ExecuteTime": {
     "end_time": "2025-05-21T16:38:21.914129Z",
     "start_time": "2025-05-21T16:38:19.671588Z"
    }
   },
   "cell_type": "code",
   "source": [
    "from core.providers.model_provider import ModelProvider\n",
    "from core.providers.mongo_provider import MongoProvider\n",
    "from core.providers.records_db_provider import RecordsDBProvider\n",
    "from core.app_config import CONFIGURATION\n",
    "from inference_graph import InferenceGraph"
   ],
   "id": "a637269ee4570b80",
   "outputs": [],
   "execution_count": 3
  },
  {
   "metadata": {
    "ExecuteTime": {
     "end_time": "2025-05-21T16:38:22.654393Z",
     "start_time": "2025-05-21T16:38:22.477909Z"
    }
   },
   "cell_type": "code",
   "source": [
    "from core.providers.memory_provider import LocalMemoryProvider\n",
    "from langgraph.types import Command\n",
    "from langchain_core.messages import HumanMessage"
   ],
   "id": "a4b265dbe47b719b",
   "outputs": [],
   "execution_count": 4
  },
  {
   "metadata": {
    "ExecuteTime": {
     "end_time": "2025-05-21T16:38:23.730336Z",
     "start_time": "2025-05-21T16:38:23.598018Z"
    }
   },
   "cell_type": "code",
   "source": "config = {\"configurable\": {\"thread_id\": \"0\"}}",
   "id": "4a8b8f5dcef7b7a",
   "outputs": [],
   "execution_count": 5
  },
  {
   "metadata": {
    "ExecuteTime": {
     "end_time": "2025-05-21T16:38:24.635797Z",
     "start_time": "2025-05-21T16:38:24.478583Z"
    }
   },
   "cell_type": "code",
   "source": [
    "model_provider = ModelProvider()\n",
    "mongo_client = MongoProvider(CONFIGURATION).get_client()\n",
    "records_db = RecordsDBProvider(mongo_client).get_db()\n",
    "memory = LocalMemoryProvider().get_memory()\n",
    "graph = InferenceGraph(memory, records_db, model_provider).graph"
   ],
   "id": "ce21a55de10b6449",
   "outputs": [],
   "execution_count": 6
  },
  {
   "metadata": {
    "ExecuteTime": {
     "end_time": "2025-05-21T16:38:29.038651Z",
     "start_time": "2025-05-21T16:38:26.425922Z"
    }
   },
   "cell_type": "code",
   "source": [
    "message = \"Hello!\"\n",
    "input_messages = [HumanMessage(message)]\n",
    "output = graph.invoke({\"input\": message, \"messages\": input_messages}, config)\n",
    "output"
   ],
   "id": "8fcf8c41cdb3be19",
   "outputs": [
    {
     "data": {
      "text/plain": [
       "{'messages': [HumanMessage(content='Hello!', additional_kwargs={}, response_metadata={}, id='54266bf7-5c6c-4389-a03e-8cedbff6ec08'),\n",
       "  AIMessage(content='Hello! How can I assist you today?', additional_kwargs={'refusal': None}, response_metadata={'token_usage': {'completion_tokens': 9, 'prompt_tokens': 9, 'total_tokens': 18, 'completion_tokens_details': {'accepted_prediction_tokens': 0, 'audio_tokens': 0, 'reasoning_tokens': 0, 'rejected_prediction_tokens': 0}, 'prompt_tokens_details': {'audio_tokens': 0, 'cached_tokens': 0}}, 'model_name': 'gpt-4o-mini-2024-07-18', 'system_fingerprint': 'fp_54eb4bd693', 'id': 'chatcmpl-BZgkXDxnCiKiSVROk7rEWtE3qlXFF', 'service_tier': 'default', 'finish_reason': 'stop', 'logprobs': None}, id='run--b1166133-e34a-4a42-885e-2ef0d5b33e5b-0', usage_metadata={'input_tokens': 9, 'output_tokens': 9, 'total_tokens': 18, 'input_token_details': {'audio': 0, 'cache_read': 0}, 'output_token_details': {'audio': 0, 'reasoning': 0}})],\n",
       " 'input': 'Hello!',\n",
       " 'chat_decision': 'CHATBOT'}"
      ]
     },
     "execution_count": 7,
     "metadata": {},
     "output_type": "execute_result"
    }
   ],
   "execution_count": 7
  },
  {
   "metadata": {
    "ExecuteTime": {
     "end_time": "2025-05-21T16:38:36.397942Z",
     "start_time": "2025-05-21T16:38:31.073776Z"
    }
   },
   "cell_type": "code",
   "source": [
    "message = \"I am feeling bad, i have 38 degrees body temperature, fever and throat pain\"\n",
    "input_messages = [HumanMessage(message)]\n",
    "output = graph.invoke({\"input\": message, \"messages\": input_messages}, config)\n",
    "output"
   ],
   "id": "f74686fed8f9e7",
   "outputs": [
    {
     "data": {
      "text/plain": [
       "{'messages': [HumanMessage(content='Hello!', additional_kwargs={}, response_metadata={}, id='54266bf7-5c6c-4389-a03e-8cedbff6ec08'),\n",
       "  AIMessage(content='Hello! How can I assist you today?', additional_kwargs={'refusal': None}, response_metadata={'token_usage': {'completion_tokens': 9, 'prompt_tokens': 9, 'total_tokens': 18, 'completion_tokens_details': {'accepted_prediction_tokens': 0, 'audio_tokens': 0, 'reasoning_tokens': 0, 'rejected_prediction_tokens': 0}, 'prompt_tokens_details': {'audio_tokens': 0, 'cached_tokens': 0}}, 'model_name': 'gpt-4o-mini-2024-07-18', 'system_fingerprint': 'fp_54eb4bd693', 'id': 'chatcmpl-BZgkXDxnCiKiSVROk7rEWtE3qlXFF', 'service_tier': 'default', 'finish_reason': 'stop', 'logprobs': None}, id='run--b1166133-e34a-4a42-885e-2ef0d5b33e5b-0', usage_metadata={'input_tokens': 9, 'output_tokens': 9, 'total_tokens': 18, 'input_token_details': {'audio': 0, 'cache_read': 0}, 'output_token_details': {'audio': 0, 'reasoning': 0}}),\n",
       "  HumanMessage(content='I am feeling bad, i have 38 degrees body temperature, fever and throat pain', additional_kwargs={}, response_metadata={}, id='c6a09300-b08d-4e4f-8fcf-d47197765661')],\n",
       " 'input': 'I am feeling bad, i have 38 degrees body temperature, fever and throat pain',\n",
       " 'chat_decision': 'MEDICAL',\n",
       " '__interrupt__': [Interrupt(value='How long have you been experiencing these symptoms?', resumable=True, ns=['medial_graph:c4a610a4-fb01-3b59-8605-1f4fede9d3c7', 'questions_graph:bcf5bf36-5906-4615-dc5b-b6196fb5bafe', 'human_node:4f661c59-7d63-4f20-d63c-e341e518ff56'])]}"
      ]
     },
     "execution_count": 8,
     "metadata": {},
     "output_type": "execute_result"
    }
   ],
   "execution_count": 8
  },
  {
   "metadata": {
    "ExecuteTime": {
     "end_time": "2025-05-21T16:38:46.982808Z",
     "start_time": "2025-05-21T16:38:44.681141Z"
    }
   },
   "cell_type": "code",
   "source": "graph.invoke(Command(resume=\"nearly 3 days\"), config=config)",
   "id": "e12577794f51eb80",
   "outputs": [
    {
     "data": {
      "text/plain": [
       "{'messages': [HumanMessage(content='Hello!', additional_kwargs={}, response_metadata={}, id='54266bf7-5c6c-4389-a03e-8cedbff6ec08'),\n",
       "  AIMessage(content='Hello! How can I assist you today?', additional_kwargs={'refusal': None}, response_metadata={'token_usage': {'completion_tokens': 9, 'prompt_tokens': 9, 'total_tokens': 18, 'completion_tokens_details': {'accepted_prediction_tokens': 0, 'audio_tokens': 0, 'reasoning_tokens': 0, 'rejected_prediction_tokens': 0}, 'prompt_tokens_details': {'audio_tokens': 0, 'cached_tokens': 0}}, 'model_name': 'gpt-4o-mini-2024-07-18', 'system_fingerprint': 'fp_54eb4bd693', 'id': 'chatcmpl-BZgkXDxnCiKiSVROk7rEWtE3qlXFF', 'service_tier': 'default', 'finish_reason': 'stop', 'logprobs': None}, id='run--b1166133-e34a-4a42-885e-2ef0d5b33e5b-0', usage_metadata={'input_tokens': 9, 'output_tokens': 9, 'total_tokens': 18, 'input_token_details': {'audio': 0, 'cache_read': 0}, 'output_token_details': {'audio': 0, 'reasoning': 0}}),\n",
       "  HumanMessage(content='I am feeling bad, i have 38 degrees body temperature, fever and throat pain', additional_kwargs={}, response_metadata={}, id='c6a09300-b08d-4e4f-8fcf-d47197765661')],\n",
       " 'input': 'I am feeling bad, i have 38 degrees body temperature, fever and throat pain',\n",
       " 'chat_decision': 'MEDICAL',\n",
       " '__interrupt__': [Interrupt(value='Have you noticed any difficulty swallowing or breathing?', resumable=True, ns=['medial_graph:c4a610a4-fb01-3b59-8605-1f4fede9d3c7', 'questions_graph:bcf5bf36-5906-4615-dc5b-b6196fb5bafe', 'human_node:10734718-48b4-1187-340c-33ddcc276fe0'])]}"
      ]
     },
     "execution_count": 9,
     "metadata": {},
     "output_type": "execute_result"
    }
   ],
   "execution_count": 9
  },
  {
   "metadata": {
    "ExecuteTime": {
     "end_time": "2025-05-21T16:25:38.776258Z",
     "start_time": "2025-05-21T16:25:37.755629Z"
    }
   },
   "cell_type": "code",
   "source": "graph.invoke(Command(resume=\"no\"), config=config)",
   "id": "11cf296a47c4215d",
   "outputs": [
    {
     "data": {
      "text/plain": [
       "{'messages': [HumanMessage(content='Hello!', additional_kwargs={}, response_metadata={}, id='3ba0d2eb-6f08-4280-96d1-0c638ca373e6'),\n",
       "  AIMessage(content='Hello! How can I assist you today?', additional_kwargs={'refusal': None}, response_metadata={'token_usage': {'completion_tokens': 9, 'prompt_tokens': 9, 'total_tokens': 18, 'completion_tokens_details': {'accepted_prediction_tokens': 0, 'audio_tokens': 0, 'reasoning_tokens': 0, 'rejected_prediction_tokens': 0}, 'prompt_tokens_details': {'audio_tokens': 0, 'cached_tokens': 0}}, 'model_name': 'gpt-4o-mini-2024-07-18', 'system_fingerprint': 'fp_54eb4bd693', 'id': 'chatcmpl-BZgXgIrd5QSs108LKaNh9GMc0Nu6j', 'service_tier': 'default', 'finish_reason': 'stop', 'logprobs': None}, id='run--f95b0ab7-a8d7-4579-a307-e15ba92b9800-0', usage_metadata={'input_tokens': 9, 'output_tokens': 9, 'total_tokens': 18, 'input_token_details': {'audio': 0, 'cache_read': 0}, 'output_token_details': {'audio': 0, 'reasoning': 0}}),\n",
       "  HumanMessage(content='I am feeling bad, i have 38 degrees body temperature, fever and throat pain', additional_kwargs={}, response_metadata={}, id='abc87ebf-b2a8-49ab-b68c-d569d2935ef2')],\n",
       " 'input': 'I am feeling bad, i have 38 degrees body temperature, fever and throat pain',\n",
       " 'chat_decision': 'MEDICAL',\n",
       " '__interrupt__': [Interrupt(value='Have you had any recent exposure to someone who tested positive for COVID-19?', resumable=True, ns=['medial_graph:ff7b0e0c-3620-b36f-822e-e8feb3c4aee3', 'questions_graph:422b3e19-e4b9-cd5d-8f8b-3b84c08ae678', 'human_node:479c2291-43ad-70fd-b1cb-0c3c4dd515c7'])]}"
      ]
     },
     "execution_count": 12,
     "metadata": {},
     "output_type": "execute_result"
    }
   ],
   "execution_count": 12
  },
  {
   "metadata": {
    "ExecuteTime": {
     "end_time": "2025-05-21T16:25:42.871220Z",
     "start_time": "2025-05-21T16:25:41.761988Z"
    }
   },
   "cell_type": "code",
   "source": "graph.invoke(Command(resume=\"no\"), config=config)",
   "id": "2778f615d2e01415",
   "outputs": [
    {
     "data": {
      "text/plain": [
       "{'messages': [HumanMessage(content='Hello!', additional_kwargs={}, response_metadata={}, id='3ba0d2eb-6f08-4280-96d1-0c638ca373e6'),\n",
       "  AIMessage(content='Hello! How can I assist you today?', additional_kwargs={'refusal': None}, response_metadata={'token_usage': {'completion_tokens': 9, 'prompt_tokens': 9, 'total_tokens': 18, 'completion_tokens_details': {'accepted_prediction_tokens': 0, 'audio_tokens': 0, 'reasoning_tokens': 0, 'rejected_prediction_tokens': 0}, 'prompt_tokens_details': {'audio_tokens': 0, 'cached_tokens': 0}}, 'model_name': 'gpt-4o-mini-2024-07-18', 'system_fingerprint': 'fp_54eb4bd693', 'id': 'chatcmpl-BZgXgIrd5QSs108LKaNh9GMc0Nu6j', 'service_tier': 'default', 'finish_reason': 'stop', 'logprobs': None}, id='run--f95b0ab7-a8d7-4579-a307-e15ba92b9800-0', usage_metadata={'input_tokens': 9, 'output_tokens': 9, 'total_tokens': 18, 'input_token_details': {'audio': 0, 'cache_read': 0}, 'output_token_details': {'audio': 0, 'reasoning': 0}}),\n",
       "  HumanMessage(content='I am feeling bad, i have 38 degrees body temperature, fever and throat pain', additional_kwargs={}, response_metadata={}, id='abc87ebf-b2a8-49ab-b68c-d569d2935ef2')],\n",
       " 'input': 'I am feeling bad, i have 38 degrees body temperature, fever and throat pain',\n",
       " 'chat_decision': 'MEDICAL',\n",
       " '__interrupt__': [Interrupt(value='Do you have any underlying health conditions or are you currently taking any medications?', resumable=True, ns=['medial_graph:ff7b0e0c-3620-b36f-822e-e8feb3c4aee3', 'questions_graph:422b3e19-e4b9-cd5d-8f8b-3b84c08ae678', 'human_node:e39ae287-ca98-9846-66e1-47ec9564ee5d'])]}"
      ]
     },
     "execution_count": 13,
     "metadata": {},
     "output_type": "execute_result"
    }
   ],
   "execution_count": 13
  },
  {
   "metadata": {
    "ExecuteTime": {
     "end_time": "2025-05-21T16:25:46.964106Z",
     "start_time": "2025-05-21T16:25:45.858689Z"
    }
   },
   "cell_type": "code",
   "source": "graph.invoke(Command(resume=\"no\"), config=config)",
   "id": "fa2178e868400237",
   "outputs": [
    {
     "data": {
      "text/plain": [
       "{'messages': [HumanMessage(content='Hello!', additional_kwargs={}, response_metadata={}, id='3ba0d2eb-6f08-4280-96d1-0c638ca373e6'),\n",
       "  AIMessage(content='Hello! How can I assist you today?', additional_kwargs={'refusal': None}, response_metadata={'token_usage': {'completion_tokens': 9, 'prompt_tokens': 9, 'total_tokens': 18, 'completion_tokens_details': {'accepted_prediction_tokens': 0, 'audio_tokens': 0, 'reasoning_tokens': 0, 'rejected_prediction_tokens': 0}, 'prompt_tokens_details': {'audio_tokens': 0, 'cached_tokens': 0}}, 'model_name': 'gpt-4o-mini-2024-07-18', 'system_fingerprint': 'fp_54eb4bd693', 'id': 'chatcmpl-BZgXgIrd5QSs108LKaNh9GMc0Nu6j', 'service_tier': 'default', 'finish_reason': 'stop', 'logprobs': None}, id='run--f95b0ab7-a8d7-4579-a307-e15ba92b9800-0', usage_metadata={'input_tokens': 9, 'output_tokens': 9, 'total_tokens': 18, 'input_token_details': {'audio': 0, 'cache_read': 0}, 'output_token_details': {'audio': 0, 'reasoning': 0}}),\n",
       "  HumanMessage(content='I am feeling bad, i have 38 degrees body temperature, fever and throat pain', additional_kwargs={}, response_metadata={}, id='abc87ebf-b2a8-49ab-b68c-d569d2935ef2')],\n",
       " 'input': 'I am feeling bad, i have 38 degrees body temperature, fever and throat pain',\n",
       " 'chat_decision': 'MEDICAL',\n",
       " '__interrupt__': [Interrupt(value='Have you experienced any gastrointestinal symptoms, such as nausea or diarrhea?', resumable=True, ns=['medial_graph:ff7b0e0c-3620-b36f-822e-e8feb3c4aee3', 'questions_graph:422b3e19-e4b9-cd5d-8f8b-3b84c08ae678', 'human_node:081b4d40-f990-f958-0372-07d8723d7135'])]}"
      ]
     },
     "execution_count": 14,
     "metadata": {},
     "output_type": "execute_result"
    }
   ],
   "execution_count": 14
  },
  {
   "metadata": {
    "ExecuteTime": {
     "end_time": "2025-05-21T16:25:52.613208Z",
     "start_time": "2025-05-21T16:25:50.074487Z"
    }
   },
   "cell_type": "code",
   "source": "graph.invoke(Command(resume=\"yes\"), config=config)",
   "id": "bd5a8d8530c9cc05",
   "outputs": [
    {
     "data": {
      "text/plain": [
       "{'messages': [HumanMessage(content='Hello!', additional_kwargs={}, response_metadata={}, id='3ba0d2eb-6f08-4280-96d1-0c638ca373e6'),\n",
       "  AIMessage(content='Hello! How can I assist you today?', additional_kwargs={'refusal': None}, response_metadata={'token_usage': {'completion_tokens': 9, 'prompt_tokens': 9, 'total_tokens': 18, 'completion_tokens_details': {'accepted_prediction_tokens': 0, 'audio_tokens': 0, 'reasoning_tokens': 0, 'rejected_prediction_tokens': 0}, 'prompt_tokens_details': {'audio_tokens': 0, 'cached_tokens': 0}}, 'model_name': 'gpt-4o-mini-2024-07-18', 'system_fingerprint': 'fp_54eb4bd693', 'id': 'chatcmpl-BZgXgIrd5QSs108LKaNh9GMc0Nu6j', 'service_tier': 'default', 'finish_reason': 'stop', 'logprobs': None}, id='run--f95b0ab7-a8d7-4579-a307-e15ba92b9800-0', usage_metadata={'input_tokens': 9, 'output_tokens': 9, 'total_tokens': 18, 'input_token_details': {'audio': 0, 'cache_read': 0}, 'output_token_details': {'audio': 0, 'reasoning': 0}}),\n",
       "  HumanMessage(content='I am feeling bad, i have 38 degrees body temperature, fever and throat pain', additional_kwargs={}, response_metadata={}, id='abc87ebf-b2a8-49ab-b68c-d569d2935ef2')],\n",
       " 'input': 'I am feeling bad, i have 38 degrees body temperature, fever and throat pain',\n",
       " 'chat_decision': 'MEDICAL',\n",
       " 'symptoms': ['bad feeling',\n",
       "  '38 degrees body temperature',\n",
       "  'fever',\n",
       "  'throat pain'],\n",
       " 'diagnoses': ['Viral infection',\n",
       "  'Bacterial pharyngitis',\n",
       "  'Common cold',\n",
       "  'Influenza',\n",
       "  'COVID-19'],\n",
       " 'question_decision': 'TRUE',\n",
       " 'questions': [],\n",
       " 'current_question': '',\n",
       " 'answered_question': 'Have you experienced any gastrointestinal symptoms, such as nausea or diarrhea?',\n",
       " 'answers': [{'question': 'How long have you been experiencing these symptoms?',\n",
       "   'answer': 'nearly 3 days'},\n",
       "  {'question': 'Do you have any additional symptoms, such as a cough or difficulty breathing?',\n",
       "   'answer': 'no'},\n",
       "  {'question': 'Have you had any recent exposure to someone who tested positive for COVID-19?',\n",
       "   'answer': 'no'},\n",
       "  {'question': 'Do you have any underlying health conditions or are you currently taking any medications?',\n",
       "   'answer': 'no'},\n",
       "  {'question': 'Have you experienced any gastrointestinal symptoms, such as nausea or diarrhea?',\n",
       "   'answer': 'yes'}],\n",
       " 'answer': 'yes',\n",
       " 'clue': '',\n",
       " 'final_symptoms': ['bad feeling',\n",
       "  '38 degrees body temperature',\n",
       "  'fever',\n",
       "  'throat pain',\n",
       "  'gastrointestinal symptoms'],\n",
       " 'final_diagnoses': ['Viral infection',\n",
       "  'Bacterial pharyngitis',\n",
       "  'Common cold',\n",
       "  'Influenza'],\n",
       " 'delay': 5,\n",
       " 'doctor': 'Infectious disease specialist'}"
      ]
     },
     "execution_count": 15,
     "metadata": {},
     "output_type": "execute_result"
    }
   ],
   "execution_count": 15
  },
  {
   "metadata": {
    "ExecuteTime": {
     "end_time": "2025-05-21T16:30:16.996759Z",
     "start_time": "2025-05-21T16:30:16.862791Z"
    }
   },
   "cell_type": "code",
   "source": [
    "import datetime\n",
    "\n",
    "result_date = datetime.datetime.now() + datetime.timedelta(days=1)"
   ],
   "id": "79deb4a5ed54744",
   "outputs": [],
   "execution_count": 17
  },
  {
   "metadata": {
    "ExecuteTime": {
     "end_time": "2025-05-21T16:31:27.790033Z",
     "start_time": "2025-05-21T16:31:27.658400Z"
    }
   },
   "cell_type": "code",
   "source": "result_date.strftime('%d.%m.%Y')",
   "id": "f1ac1bd1f98c8a47",
   "outputs": [
    {
     "data": {
      "text/plain": [
       "'22.05.2025'"
      ]
     },
     "execution_count": 22,
     "metadata": {},
     "output_type": "execute_result"
    }
   ],
   "execution_count": 22
  },
  {
   "metadata": {
    "ExecuteTime": {
     "end_time": "2025-05-21T15:04:56.916839Z",
     "start_time": "2025-05-21T15:04:56.807735Z"
    }
   },
   "cell_type": "code",
   "source": "graph.get_state(config).values['delay']",
   "id": "bb8dc418fdc3ac0a",
   "outputs": [
    {
     "data": {
      "text/plain": [
       "2"
      ]
     },
     "execution_count": 80,
     "metadata": {},
     "output_type": "execute_result"
    }
   ],
   "execution_count": 80
  },
  {
   "metadata": {
    "ExecuteTime": {
     "end_time": "2025-05-21T13:00:54.792280800Z",
     "start_time": "2025-05-21T12:53:46.046728Z"
    }
   },
   "cell_type": "code",
   "source": [
    "from IPython.display import Image, display\n",
    "\n",
    "try:\n",
    "    display(Image(graph.get_graph().draw_mermaid_png()))\n",
    "except Exception:\n",
    "    pass"
   ],
   "id": "74f30002752506b",
   "outputs": [
    {
     "data": {
      "image/png": "[encoded data removed]",
      "text/plain": [
       "<IPython.core.display.Image object>"
      ]
     },
     "metadata": {},
     "output_type": "display_data"
    }
   ],
   "execution_count": 187
  }
 ],
 "metadata": {
  "kernelspec": {
   "display_name": "Python 3",
   "language": "python",
   "name": "python3"
  },
  "language_info": {
   "codemirror_mode": {
    "name": "ipython",
    "version": 2
   },
   "file_extension": ".py",
   "mimetype": "text/x-python",
   "name": "python",
   "nbconvert_exporter": "python",
   "pygments_lexer": "ipython2",
   "version": "2.7.6"
  }
 },
 "nbformat": 4,
 "nbformat_minor": 5
}
